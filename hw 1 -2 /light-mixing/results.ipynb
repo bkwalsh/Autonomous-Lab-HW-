{
 "cells": [
  {
   "cell_type": "code",
   "execution_count": 10,
   "metadata": {},
   "outputs": [],
   "source": [
    "import pandas as pd\n",
    "import numpy as np\n",
    "\n",
    "RGB = 'R25_G25_B25_'\n",
    "REMOTE_VARY_SEED = 'results/remote/vary_seed/' + RGB\n",
    "LOCAL_VARY_SEED = 'results/local/vary_seed/' + RGB\n",
    "SAME_TIME = 'results/combined/same_time/' + RGB\n",
    "SAME_ITER = 'results/combined/same_iter/' + RGB"
   ]
  },
  {
   "cell_type": "code",
   "execution_count": 18,
   "metadata": {},
   "outputs": [
    {
     "name": "stdout",
     "output_type": "stream",
     "text": [
      "Mean:  458.0\n",
      "Std: 205.8705094632708\n"
     ]
    }
   ],
   "source": [
    "best = []\n",
    "for i in range(1, 4):\n",
    "    df = pd.read_csv(REMOTE_VARY_SEED + str(i) + '/bayesian_optimization.csv')\n",
    "    best.append(df['best_so_far'].min())\n",
    "for i in range(1, 4):\n",
    "    df = pd.read_csv(LOCAL_VARY_SEED + str(i) + '/bayesian_optimization.csv')\n",
    "    best.append(df['best_so_far'].min())\n",
    "print('Mean: ', np.mean(best))\n",
    "print('Std:', np.std(best))"
   ]
  },
  {
   "cell_type": "code",
   "execution_count": 19,
   "metadata": {},
   "outputs": [
    {
     "name": "stdout",
     "output_type": "stream",
     "text": [
      "Mean:  713.4534159741071\n",
      "Std: 174.53401741459376\n"
     ]
    }
   ],
   "source": [
    "best = []\n",
    "for i in range(1, 11):\n",
    "    df = pd.read_csv(SAME_ITER + str(i) + '/batch_optimization.csv')\n",
    "    best.append(df['best_so_far'].min())\n",
    "print('Mean: ', np.mean(best))\n",
    "print('Std:', np.std(best))"
   ]
  },
  {
   "cell_type": "code",
   "execution_count": 20,
   "metadata": {},
   "outputs": [
    {
     "name": "stdout",
     "output_type": "stream",
     "text": [
      "Mean:  384.0024967590665\n",
      "Std: 270.4307350927462\n"
     ]
    }
   ],
   "source": [
    "best = []\n",
    "for i in range(1, 11):\n",
    "    df = pd.read_csv(SAME_TIME + str(i) + '/batch_optimization.csv')\n",
    "    best.append(df['best_so_far'].min())\n",
    "print('Mean: ', np.mean(best))\n",
    "print('Std:', np.std(best))"
   ]
  }
 ],
 "metadata": {
  "kernelspec": {
   "display_name": "base",
   "language": "python",
   "name": "python3"
  },
  "language_info": {
   "codemirror_mode": {
    "name": "ipython",
    "version": 3
   },
   "file_extension": ".py",
   "mimetype": "text/x-python",
   "name": "python",
   "nbconvert_exporter": "python",
   "pygments_lexer": "ipython3",
   "version": "3.11.4"
  }
 },
 "nbformat": 4,
 "nbformat_minor": 2
}
